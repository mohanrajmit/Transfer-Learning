{
  "nbformat": 4,
  "nbformat_minor": 0,
  "metadata": {
    "colab": {
      "name": "Untitled1.ipynb",
      "provenance": [],
      "include_colab_link": true
    },
    "kernelspec": {
      "name": "python3",
      "display_name": "Python 3"
    },
    "accelerator": "GPU"
  },
  "cells": [
    {
      "cell_type": "markdown",
      "metadata": {
        "id": "view-in-github",
        "colab_type": "text"
      },
      "source": [
        "<a href=\"https://colab.research.google.com/github/mohanrajmit/Transfer-Learning/blob/master/ImageAugmentation_CNN.ipynb\" target=\"_parent\"><img src=\"https://colab.research.google.com/assets/colab-badge.svg\" alt=\"Open In Colab\"/></a>"
      ]
    },
    {
      "cell_type": "code",
      "metadata": {
        "id": "pdxVC0hnBMo3"
      },
      "source": [
        "from pathlib import Path\n",
        "import numpy as np\n",
        "import joblib\n",
        "from tensorflow.keras.preprocessing.image import load_img,img_to_array\n",
        "\n",
        "# Empty lists to hold the images and labels for each each image\n",
        "x_train = []\n",
        "y_train = []"
      ],
      "execution_count": 1,
      "outputs": []
    },
    {
      "cell_type": "code",
      "metadata": {
        "id": "YmEmDeXKHtyU",
        "colab": {
          "base_uri": "https://localhost:8080/"
        },
        "outputId": "da0af1d7-70a8-4f9d-cca6-0cf38140a537"
      },
      "source": [
        "!git clone https://github.com/mohanrajmit/Transfer-Learning.git"
      ],
      "execution_count": 2,
      "outputs": [
        {
          "output_type": "stream",
          "name": "stdout",
          "text": [
            "fatal: destination path 'Transfer-Learning' already exists and is not an empty directory.\n"
          ]
        }
      ]
    },
    {
      "cell_type": "code",
      "metadata": {
        "id": "_9Es9qfMKV5l",
        "colab": {
          "base_uri": "https://localhost:8080/"
        },
        "outputId": "2bd8de54-59e1-4618-8f74-941a274c4079"
      },
      "source": [
        "!ls"
      ],
      "execution_count": 3,
      "outputs": [
        {
          "output_type": "stream",
          "name": "stdout",
          "text": [
            "sample_data  Transfer-Learning\n"
          ]
        }
      ]
    },
    {
      "cell_type": "code",
      "metadata": {
        "id": "pFzZzArPBQW6"
      },
      "source": [
        "# Load the training data set by looping over every image file\n",
        "for image_file in Path(\"Transfer-Learning/training_dataset\").glob(\"**/*.png\"):\n",
        "\n",
        "    # Load the current image file\n",
        "    image_data = load_img(image_file, target_size=(73, 73))\n",
        "\n",
        "    # Convert the loaded image file to a numpy array\n",
        "    image_array = img_to_array(image_data)\n",
        "\n",
        "    # Add the current image to our list of training images\n",
        "    x_train.append(image_array)\n",
        "\n",
        "    # Add a label for this image. If it was a not_bird image, label it 0. If it was a bird, label it 1.\n",
        "    if \"not_bird\" in image_file.stem:\n",
        "        y_train.append(0)\n",
        "    else:\n",
        "        y_train.append(1)"
      ],
      "execution_count": 4,
      "outputs": []
    },
    {
      "cell_type": "code",
      "metadata": {
        "id": "sBfVYK56BbwT"
      },
      "source": [
        "# Convert the list of separate images into a single 4D numpy array. This is what Keras expects.\n",
        "x_train = np.array(x_train)\n",
        "\n",
        "y_train = np.array(y_train)\n",
        "\n",
        "\n",
        "\n"
      ],
      "execution_count": 5,
      "outputs": []
    },
    {
      "cell_type": "code",
      "source": [
        "x_train.shape\n",
        "\n"
      ],
      "metadata": {
        "id": "vbXlwQl6XOww",
        "outputId": "45926d79-2531-49a6-f9ce-773970538d27",
        "colab": {
          "base_uri": "https://localhost:8080/"
        }
      },
      "execution_count": 6,
      "outputs": [
        {
          "output_type": "execute_result",
          "data": {
            "text/plain": [
              "(2000, 73, 73, 3)"
            ]
          },
          "metadata": {},
          "execution_count": 6
        }
      ]
    },
    {
      "cell_type": "code",
      "source": [
        "y_train = np.array(y_train)"
      ],
      "metadata": {
        "id": "CHqdeB9jbWdp"
      },
      "execution_count": 7,
      "outputs": []
    },
    {
      "cell_type": "code",
      "source": [
        "y_train.shape"
      ],
      "metadata": {
        "id": "LPhF6MOqbU5b",
        "outputId": "dbae9654-bdac-4d97-8612-9019ad59e703",
        "colab": {
          "base_uri": "https://localhost:8080/"
        }
      },
      "execution_count": 8,
      "outputs": [
        {
          "output_type": "execute_result",
          "data": {
            "text/plain": [
              "(2000,)"
            ]
          },
          "metadata": {},
          "execution_count": 8
        }
      ]
    },
    {
      "cell_type": "code",
      "source": [
        "from tensorflow.keras.preprocessing.image import ImageDataGenerator"
      ],
      "metadata": {
        "id": "lyvaJczrXjbg"
      },
      "execution_count": 9,
      "outputs": []
    },
    {
      "cell_type": "code",
      "source": [
        "aug = ImageDataGenerator(rotation_range=30,width_shift_range=0.2,height_shift_range=0.2)"
      ],
      "metadata": {
        "id": "7X2KiwblXolS"
      },
      "execution_count": 10,
      "outputs": []
    },
    {
      "cell_type": "code",
      "source": [
        "from tensorflow.keras.models import Sequential"
      ],
      "metadata": {
        "id": "Z5pqmhpbX-lp"
      },
      "execution_count": 11,
      "outputs": []
    },
    {
      "cell_type": "code",
      "source": [
        "from tensorflow.keras.layers import Dense,Conv2D,MaxPooling2D,Flatten"
      ],
      "metadata": {
        "id": "kQHiG088YS14"
      },
      "execution_count": 12,
      "outputs": []
    },
    {
      "cell_type": "code",
      "source": [
        "# Empty lists to hold the images and labels for each each image\n",
        "x_test = []\n",
        "y_test = []\n",
        "\n",
        "# Load the test data set by looping over every image file\n",
        "for image_file in Path(\"Transfer-Learning/test_dataset\").glob(\"**/*.png\"):\n",
        "\n",
        "    # Load the current image file\n",
        "    image_data = load_img(image_file, target_size=(73, 73))\n",
        "\n",
        "    # Convert the loaded image file to a numpy array\n",
        "    image_array = img_to_array(image_data)\n",
        "\n",
        "    # Add the current image to our list of test images\n",
        "    x_test.append(image_array)\n",
        "\n",
        "    # Add an expected label for this image. If it was a not_bird image, label it 0. If it was a bird, label it 1.\n",
        "    if \"not_bird\" in image_file.stem:\n",
        "        y_test.append(0)\n",
        "    else:\n",
        "        y_test.append(1)\n",
        "\n",
        "# Convert the list of test images to a numpy array\n",
        "x_test = np.array(x_test)\n",
        "\n",
        "y_test = np.array(y_test)"
      ],
      "metadata": {
        "id": "mBi49fzRfxIn"
      },
      "execution_count": 22,
      "outputs": []
    },
    {
      "cell_type": "code",
      "source": [
        "x_test.shape"
      ],
      "metadata": {
        "id": "CEsyrOo8fynD",
        "outputId": "12a85e4d-9f00-4c0e-bd0e-7aa6d6778aa3",
        "colab": {
          "base_uri": "https://localhost:8080/"
        }
      },
      "execution_count": 23,
      "outputs": [
        {
          "output_type": "execute_result",
          "data": {
            "text/plain": [
              "(200, 73, 73, 3)"
            ]
          },
          "metadata": {},
          "execution_count": 23
        }
      ]
    },
    {
      "cell_type": "code",
      "source": [
        "y_test.shape"
      ],
      "metadata": {
        "id": "A_fNIDf5f0p-",
        "outputId": "50c7b477-f4b0-4eda-a55a-fc0324aca735",
        "colab": {
          "base_uri": "https://localhost:8080/"
        }
      },
      "execution_count": 24,
      "outputs": [
        {
          "output_type": "execute_result",
          "data": {
            "text/plain": [
              "(200,)"
            ]
          },
          "metadata": {},
          "execution_count": 24
        }
      ]
    },
    {
      "cell_type": "code",
      "source": [
        "model = Sequential()"
      ],
      "metadata": {
        "id": "G_m8_6BrYcLr"
      },
      "execution_count": 13,
      "outputs": []
    },
    {
      "cell_type": "code",
      "source": [
        "model = Sequential()\n",
        "#model.add()\n",
        "#ip = Input(shape=(32, 32, 3))\n",
        "model.add(Conv2D(32, (3, 3), input_shape=(73,73,3),padding='same', activation=\"relu\"))\n",
        "model.add(Conv2D(32, (3, 3), activation=\"relu\"))\n",
        "model.add(MaxPooling2D(pool_size=(2, 2)))\n",
        "\n",
        "\n",
        "model.add(Conv2D(64, (3, 3), padding='same', activation=\"relu\"))\n",
        "model.add(Conv2D(64, (3, 3), activation=\"relu\"))\n",
        "model.add(MaxPooling2D(pool_size=(2, 2)))\n",
        "\n",
        "\n",
        "model.add(Flatten())\n",
        "model.add(Dense(512, activation=\"relu\"))\n",
        "model.add(Dense(1, activation=\"sigmoid\"))"
      ],
      "metadata": {
        "id": "PMcpGjmTYeP-"
      },
      "execution_count": 14,
      "outputs": []
    },
    {
      "cell_type": "code",
      "source": [
        "model.compile(loss='binary_crossentropy',optimizer=\"adam\",metrics=['accuracy'])"
      ],
      "metadata": {
        "id": "c_oi2PbQZ1b8"
      },
      "execution_count": 17,
      "outputs": []
    },
    {
      "cell_type": "code",
      "source": [
        "model.fit(x_train,y_train,batch_size=25,epochs=10,steps_per_epoch=x_train.shape[0]//25,validation_data=(x_test,y_test))"
      ],
      "metadata": {
        "id": "x1QSzQzqgxFg",
        "outputId": "46105a8b-d743-4e8f-a392-33b0d41282c3",
        "colab": {
          "base_uri": "https://localhost:8080/"
        }
      },
      "execution_count": 30,
      "outputs": [
        {
          "output_type": "stream",
          "name": "stdout",
          "text": [
            "Epoch 1/10\n",
            "80/80 [==============================] - 1s 16ms/step - loss: 0.2691 - accuracy: 0.8775 - val_loss: 0.4574 - val_accuracy: 0.7900\n",
            "Epoch 2/10\n",
            "80/80 [==============================] - 1s 15ms/step - loss: 0.1237 - accuracy: 0.9510 - val_loss: 0.6047 - val_accuracy: 0.7950\n",
            "Epoch 3/10\n",
            "80/80 [==============================] - 1s 14ms/step - loss: 0.0417 - accuracy: 0.9870 - val_loss: 0.7008 - val_accuracy: 0.7950\n",
            "Epoch 4/10\n",
            "80/80 [==============================] - 1s 14ms/step - loss: 0.0141 - accuracy: 0.9975 - val_loss: 0.7472 - val_accuracy: 0.7900\n",
            "Epoch 5/10\n",
            "80/80 [==============================] - 1s 14ms/step - loss: 0.0061 - accuracy: 0.9995 - val_loss: 0.7897 - val_accuracy: 0.8100\n",
            "Epoch 6/10\n",
            "80/80 [==============================] - 1s 14ms/step - loss: 9.9650e-04 - accuracy: 1.0000 - val_loss: 0.8674 - val_accuracy: 0.8100\n",
            "Epoch 7/10\n",
            "80/80 [==============================] - 1s 14ms/step - loss: 4.4940e-04 - accuracy: 1.0000 - val_loss: 0.8983 - val_accuracy: 0.8100\n",
            "Epoch 8/10\n",
            "80/80 [==============================] - 1s 14ms/step - loss: 2.9396e-04 - accuracy: 1.0000 - val_loss: 0.9258 - val_accuracy: 0.8100\n",
            "Epoch 9/10\n",
            "80/80 [==============================] - 1s 14ms/step - loss: 2.1695e-04 - accuracy: 1.0000 - val_loss: 0.9525 - val_accuracy: 0.8100\n",
            "Epoch 10/10\n",
            "80/80 [==============================] - 1s 14ms/step - loss: 1.6668e-04 - accuracy: 1.0000 - val_loss: 0.9702 - val_accuracy: 0.8150\n"
          ]
        },
        {
          "output_type": "execute_result",
          "data": {
            "text/plain": [
              "<keras.callbacks.History at 0x7f72bc4c3790>"
            ]
          },
          "metadata": {},
          "execution_count": 30
        }
      ]
    },
    {
      "cell_type": "code",
      "source": [
        "model.fit_generator(aug.flow(x_train,y_train,batch_size=25),epochs=10,steps_per_epoch=x_train.shape[0]//25,validation_data=(x_test,y_test))"
      ],
      "metadata": {
        "id": "f32k2n1gaCpt",
        "outputId": "d36a831b-e5a0-4fa8-90f5-38e7a231083b",
        "colab": {
          "base_uri": "https://localhost:8080/"
        }
      },
      "execution_count": 26,
      "outputs": [
        {
          "output_type": "stream",
          "name": "stdout",
          "text": [
            "Epoch 1/10\n",
            " 1/80 [..............................] - ETA: 4s - loss: 0.2932 - accuracy: 0.9200"
          ]
        },
        {
          "output_type": "stream",
          "name": "stderr",
          "text": [
            "/usr/local/lib/python3.7/dist-packages/ipykernel_launcher.py:1: UserWarning: `Model.fit_generator` is deprecated and will be removed in a future version. Please use `Model.fit`, which supports generators.\n",
            "  \"\"\"Entry point for launching an IPython kernel.\n"
          ]
        },
        {
          "output_type": "stream",
          "name": "stdout",
          "text": [
            "80/80 [==============================] - 3s 41ms/step - loss: 0.4010 - accuracy: 0.8215 - val_loss: 0.4849 - val_accuracy: 0.7650\n",
            "Epoch 2/10\n",
            "80/80 [==============================] - 3s 42ms/step - loss: 0.3769 - accuracy: 0.8230 - val_loss: 0.4961 - val_accuracy: 0.7800\n",
            "Epoch 3/10\n",
            "80/80 [==============================] - 3s 43ms/step - loss: 0.3672 - accuracy: 0.8390 - val_loss: 0.4853 - val_accuracy: 0.7950\n",
            "Epoch 4/10\n",
            "80/80 [==============================] - 3s 43ms/step - loss: 0.3832 - accuracy: 0.8350 - val_loss: 0.4152 - val_accuracy: 0.8050\n",
            "Epoch 5/10\n",
            "80/80 [==============================] - 3s 42ms/step - loss: 0.3927 - accuracy: 0.8210 - val_loss: 0.4459 - val_accuracy: 0.7900\n",
            "Epoch 6/10\n",
            "80/80 [==============================] - 4s 45ms/step - loss: 0.3712 - accuracy: 0.8455 - val_loss: 0.4903 - val_accuracy: 0.8150\n",
            "Epoch 7/10\n",
            "80/80 [==============================] - 3s 42ms/step - loss: 0.3740 - accuracy: 0.8340 - val_loss: 0.5030 - val_accuracy: 0.7800\n",
            "Epoch 8/10\n",
            "80/80 [==============================] - 3s 42ms/step - loss: 0.3666 - accuracy: 0.8255 - val_loss: 0.4158 - val_accuracy: 0.8250\n",
            "Epoch 9/10\n",
            "80/80 [==============================] - 4s 44ms/step - loss: 0.3794 - accuracy: 0.8280 - val_loss: 0.4713 - val_accuracy: 0.7700\n",
            "Epoch 10/10\n",
            "80/80 [==============================] - 3s 42ms/step - loss: 0.3729 - accuracy: 0.8295 - val_loss: 0.4608 - val_accuracy: 0.8000\n"
          ]
        },
        {
          "output_type": "execute_result",
          "data": {
            "text/plain": [
              "<keras.callbacks.History at 0x7f73100cbed0>"
            ]
          },
          "metadata": {},
          "execution_count": 26
        }
      ]
    },
    {
      "cell_type": "code",
      "metadata": {
        "id": "UZLgCYOnB1k-"
      },
      "source": [
        "from keras.models import load_model\n",
        "from sklearn.metrics import confusion_matrix, classification_report"
      ],
      "execution_count": 27,
      "outputs": []
    },
    {
      "cell_type": "code",
      "metadata": {
        "id": "mPYbXZBMCSGn",
        "colab": {
          "base_uri": "https://localhost:8080/"
        },
        "outputId": "0280b319-2789-48e1-e286-8cba43ad9502"
      },
      "source": [
        "# Extract features for each image (all in one pass)\n",
        "predictions = model.predict(x_test)\n",
        "\n",
        "# If the model is more than 50% sure the object is a bird, call it a bird.\n",
        "# Otherwise, call it \"not a bird\".\n",
        "predictions = predictions > 0.5\n",
        "\n",
        "# Calculate how many mis-classifications the model makes\n",
        "tn, fp, fn, tp = confusion_matrix(y_test, predictions).ravel()\n",
        "print(f\"True Positives: {tp}\")\n",
        "print(f\"True Negatives: {tn}\")\n",
        "print(f\"False Positives: {fp}\")\n",
        "print(f\"False Negatives: {fn}\")\n",
        "\n",
        "# Calculate Precision and Recall for each class\n",
        "report = classification_report(y_test, predictions)\n",
        "print(report)"
      ],
      "execution_count": 31,
      "outputs": [
        {
          "output_type": "stream",
          "name": "stdout",
          "text": [
            "7/7 [==============================] - 0s 6ms/step\n",
            "True Positives: 77\n",
            "True Negatives: 86\n",
            "False Positives: 14\n",
            "False Negatives: 23\n",
            "              precision    recall  f1-score   support\n",
            "\n",
            "           0       0.79      0.86      0.82       100\n",
            "           1       0.85      0.77      0.81       100\n",
            "\n",
            "    accuracy                           0.81       200\n",
            "   macro avg       0.82      0.81      0.81       200\n",
            "weighted avg       0.82      0.81      0.81       200\n",
            "\n"
          ]
        }
      ]
    },
    {
      "cell_type": "code",
      "metadata": {
        "id": "N97Mwb4Nt7Ow"
      },
      "source": [],
      "execution_count": null,
      "outputs": []
    }
  ]
}