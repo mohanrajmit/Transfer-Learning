{
  "nbformat": 4,
  "nbformat_minor": 0,
  "metadata": {
    "colab": {
      "name": "Untitled1.ipynb",
      "provenance": [],
      "include_colab_link": true
    },
    "kernelspec": {
      "name": "python3",
      "display_name": "Python 3"
    },
    "accelerator": "GPU"
  },
  "cells": [
    {
      "cell_type": "markdown",
      "metadata": {
        "id": "view-in-github",
        "colab_type": "text"
      },
      "source": [
        "<a href=\"https://colab.research.google.com/github/mohanrajmit/Transfer-Learning/blob/master/Transfer_Learning.ipynb\" target=\"_parent\"><img src=\"https://colab.research.google.com/assets/colab-badge.svg\" alt=\"Open In Colab\"/></a>"
      ]
    },
    {
      "cell_type": "code",
      "metadata": {
        "id": "pdxVC0hnBMo3"
      },
      "source": [
        "from tensorflow.keras.applications import VGG16\n",
        "from tensorflow.keras.applications import ResNet50\n",
        "from tensorflow.keras.applications import imagenet_utils\n",
        "from tensorflow.keras.preprocessing.image import img_to_array\n",
        "from tensorflow.keras.preprocessing.image import load_img\n",
        "from pathlib import Path\n",
        "import numpy as np\n",
        "import joblib\n",
        "\n",
        "# Empty lists to hold the images and labels for each each image\n",
        "x_train = []\n",
        "y_train = []"
      ],
      "execution_count": 1,
      "outputs": []
    },
    {
      "cell_type": "code",
      "metadata": {
        "id": "YmEmDeXKHtyU",
        "colab": {
          "base_uri": "https://localhost:8080/"
        },
        "outputId": "ce236ff4-91c7-4603-e089-a9e93f41fb27"
      },
      "source": [
        "!git clone https://github.com/mohanrajmit/Transfer-Learning.git"
      ],
      "execution_count": 2,
      "outputs": [
        {
          "output_type": "stream",
          "name": "stdout",
          "text": [
            "fatal: destination path 'Transfer-Learning' already exists and is not an empty directory.\n"
          ]
        }
      ]
    },
    {
      "cell_type": "code",
      "metadata": {
        "id": "_9Es9qfMKV5l",
        "colab": {
          "base_uri": "https://localhost:8080/"
        },
        "outputId": "da3f52c5-7ccd-4d61-9298-3b93a097b81f"
      },
      "source": [
        "!ls"
      ],
      "execution_count": 3,
      "outputs": [
        {
          "output_type": "stream",
          "name": "stdout",
          "text": [
            "bird_feature_classifier_model_vgg.h5  sample_data  Transfer-Learning\n"
          ]
        }
      ]
    },
    {
      "cell_type": "code",
      "metadata": {
        "id": "pFzZzArPBQW6"
      },
      "source": [
        "# Load the training data set by looping over every image file\n",
        "for image_file in Path(\"Transfer-Learning/training_dataset\").glob(\"**/*.png\"):\n",
        "\n",
        "    # Load the current image file\n",
        "    image_data = load_img(image_file, target_size=(224, 224))\n",
        "\n",
        "    # Convert the loaded image file to a numpy array\n",
        "    image_array = img_to_array(image_data)\n",
        "\n",
        "    # Add the current image to our list of training images\n",
        "    x_train.append(image_array)\n",
        "\n",
        "    # Add a label for this image. If it was a not_bird image, label it 0. If it was a bird, label it 1.\n",
        "    if \"not_bird\" in image_file.stem:\n",
        "        y_train.append(0)\n",
        "    else:\n",
        "        y_train.append(1)"
      ],
      "execution_count": 4,
      "outputs": []
    },
    {
      "cell_type": "code",
      "source": [
        "print(np.array(x_train).shape)"
      ],
      "metadata": {
        "id": "3VKExNyOP9_J",
        "outputId": "f82bffbb-a1ae-4964-a51c-fd5471ec2882",
        "colab": {
          "base_uri": "https://localhost:8080/"
        }
      },
      "execution_count": 5,
      "outputs": [
        {
          "output_type": "stream",
          "name": "stdout",
          "text": [
            "(2000, 224, 224, 3)\n"
          ]
        }
      ]
    },
    {
      "cell_type": "code",
      "metadata": {
        "id": "sBfVYK56BbwT"
      },
      "source": [
        "# Convert the list of separate images into a single 4D numpy array. This is what Keras expects.\n",
        "x_train = np.array(x_train)\n",
        "\n",
        "# Normalize image data to 0-to-1 range\n",
        "x_train = imagenet_utils.preprocess_input(x_train)\n",
        "\n"
      ],
      "execution_count": 6,
      "outputs": []
    },
    {
      "cell_type": "code",
      "source": [
        "\n",
        "# Load the pre-trained neural network to use as a feature extractor\n",
        "feature_extractor = VGG16(weights='imagenet', include_top=False,input_shape=(224,224,3))\n",
        "\n"
      ],
      "metadata": {
        "id": "4JHK86iUQjMy"
      },
      "execution_count": 7,
      "outputs": []
    },
    {
      "cell_type": "code",
      "source": [
        "feature_extractor.summary()"
      ],
      "metadata": {
        "colab": {
          "base_uri": "https://localhost:8080/"
        },
        "id": "hyOa6dvE3vEh",
        "outputId": "ac5563c3-1ad9-4f31-cbc5-75d65e11a656"
      },
      "execution_count": 8,
      "outputs": [
        {
          "output_type": "stream",
          "name": "stdout",
          "text": [
            "Model: \"vgg16\"\n",
            "_________________________________________________________________\n",
            " Layer (type)                Output Shape              Param #   \n",
            "=================================================================\n",
            " input_1 (InputLayer)        [(None, 224, 224, 3)]     0         \n",
            "                                                                 \n",
            " block1_conv1 (Conv2D)       (None, 224, 224, 64)      1792      \n",
            "                                                                 \n",
            " block1_conv2 (Conv2D)       (None, 224, 224, 64)      36928     \n",
            "                                                                 \n",
            " block1_pool (MaxPooling2D)  (None, 112, 112, 64)      0         \n",
            "                                                                 \n",
            " block2_conv1 (Conv2D)       (None, 112, 112, 128)     73856     \n",
            "                                                                 \n",
            " block2_conv2 (Conv2D)       (None, 112, 112, 128)     147584    \n",
            "                                                                 \n",
            " block2_pool (MaxPooling2D)  (None, 56, 56, 128)       0         \n",
            "                                                                 \n",
            " block3_conv1 (Conv2D)       (None, 56, 56, 256)       295168    \n",
            "                                                                 \n",
            " block3_conv2 (Conv2D)       (None, 56, 56, 256)       590080    \n",
            "                                                                 \n",
            " block3_conv3 (Conv2D)       (None, 56, 56, 256)       590080    \n",
            "                                                                 \n",
            " block3_pool (MaxPooling2D)  (None, 28, 28, 256)       0         \n",
            "                                                                 \n",
            " block4_conv1 (Conv2D)       (None, 28, 28, 512)       1180160   \n",
            "                                                                 \n",
            " block4_conv2 (Conv2D)       (None, 28, 28, 512)       2359808   \n",
            "                                                                 \n",
            " block4_conv3 (Conv2D)       (None, 28, 28, 512)       2359808   \n",
            "                                                                 \n",
            " block4_pool (MaxPooling2D)  (None, 14, 14, 512)       0         \n",
            "                                                                 \n",
            " block5_conv1 (Conv2D)       (None, 14, 14, 512)       2359808   \n",
            "                                                                 \n",
            " block5_conv2 (Conv2D)       (None, 14, 14, 512)       2359808   \n",
            "                                                                 \n",
            " block5_conv3 (Conv2D)       (None, 14, 14, 512)       2359808   \n",
            "                                                                 \n",
            " block5_pool (MaxPooling2D)  (None, 7, 7, 512)         0         \n",
            "                                                                 \n",
            "=================================================================\n",
            "Total params: 14714688 (56.13 MB)\n",
            "Trainable params: 14714688 (56.13 MB)\n",
            "Non-trainable params: 0 (0.00 Byte)\n",
            "_________________________________________________________________\n"
          ]
        }
      ]
    },
    {
      "cell_type": "code",
      "source": [
        "#feature_extractor_resnet = ResNet50(weights='imagenet', include_top=False,input_shape=(224,224,3))"
      ],
      "metadata": {
        "id": "a3AWHb_c3XtD"
      },
      "execution_count": 9,
      "outputs": []
    },
    {
      "cell_type": "code",
      "source": [
        "feature_extractor.summary()"
      ],
      "metadata": {
        "id": "uQWZeuAcQnCR",
        "outputId": "84dfb815-e0a8-4bfb-aeb4-b5a941ec9074",
        "colab": {
          "base_uri": "https://localhost:8080/"
        }
      },
      "execution_count": 10,
      "outputs": [
        {
          "output_type": "stream",
          "name": "stdout",
          "text": [
            "Model: \"vgg16\"\n",
            "_________________________________________________________________\n",
            " Layer (type)                Output Shape              Param #   \n",
            "=================================================================\n",
            " input_1 (InputLayer)        [(None, 224, 224, 3)]     0         \n",
            "                                                                 \n",
            " block1_conv1 (Conv2D)       (None, 224, 224, 64)      1792      \n",
            "                                                                 \n",
            " block1_conv2 (Conv2D)       (None, 224, 224, 64)      36928     \n",
            "                                                                 \n",
            " block1_pool (MaxPooling2D)  (None, 112, 112, 64)      0         \n",
            "                                                                 \n",
            " block2_conv1 (Conv2D)       (None, 112, 112, 128)     73856     \n",
            "                                                                 \n",
            " block2_conv2 (Conv2D)       (None, 112, 112, 128)     147584    \n",
            "                                                                 \n",
            " block2_pool (MaxPooling2D)  (None, 56, 56, 128)       0         \n",
            "                                                                 \n",
            " block3_conv1 (Conv2D)       (None, 56, 56, 256)       295168    \n",
            "                                                                 \n",
            " block3_conv2 (Conv2D)       (None, 56, 56, 256)       590080    \n",
            "                                                                 \n",
            " block3_conv3 (Conv2D)       (None, 56, 56, 256)       590080    \n",
            "                                                                 \n",
            " block3_pool (MaxPooling2D)  (None, 28, 28, 256)       0         \n",
            "                                                                 \n",
            " block4_conv1 (Conv2D)       (None, 28, 28, 512)       1180160   \n",
            "                                                                 \n",
            " block4_conv2 (Conv2D)       (None, 28, 28, 512)       2359808   \n",
            "                                                                 \n",
            " block4_conv3 (Conv2D)       (None, 28, 28, 512)       2359808   \n",
            "                                                                 \n",
            " block4_pool (MaxPooling2D)  (None, 14, 14, 512)       0         \n",
            "                                                                 \n",
            " block5_conv1 (Conv2D)       (None, 14, 14, 512)       2359808   \n",
            "                                                                 \n",
            " block5_conv2 (Conv2D)       (None, 14, 14, 512)       2359808   \n",
            "                                                                 \n",
            " block5_conv3 (Conv2D)       (None, 14, 14, 512)       2359808   \n",
            "                                                                 \n",
            " block5_pool (MaxPooling2D)  (None, 7, 7, 512)         0         \n",
            "                                                                 \n",
            "=================================================================\n",
            "Total params: 14714688 (56.13 MB)\n",
            "Trainable params: 14714688 (56.13 MB)\n",
            "Non-trainable params: 0 (0.00 Byte)\n",
            "_________________________________________________________________\n"
          ]
        }
      ]
    },
    {
      "cell_type": "code",
      "source": [
        "#feature_extractor_resnet.summary()"
      ],
      "metadata": {
        "id": "lIcMxUqd3jd1"
      },
      "execution_count": 11,
      "outputs": []
    },
    {
      "cell_type": "code",
      "source": [
        "# Extract features for each image (all in one pass)\n",
        "features_x = feature_extractor.predict(x_train)\n",
        "\n"
      ],
      "metadata": {
        "id": "ZaqOt889QnPX",
        "outputId": "3d10e3f9-f033-4440-80c7-a02a5db1c79c",
        "colab": {
          "base_uri": "https://localhost:8080/"
        }
      },
      "execution_count": 12,
      "outputs": [
        {
          "output_type": "stream",
          "name": "stdout",
          "text": [
            "63/63 [==============================] - 15s 150ms/step\n"
          ]
        }
      ]
    },
    {
      "cell_type": "code",
      "source": [
        "features_x.shape"
      ],
      "metadata": {
        "id": "nJ14eKvORWjc",
        "outputId": "1e122665-47ec-4068-f40b-9b23823d4822",
        "colab": {
          "base_uri": "https://localhost:8080/"
        }
      },
      "execution_count": 13,
      "outputs": [
        {
          "output_type": "execute_result",
          "data": {
            "text/plain": [
              "(2000, 7, 7, 512)"
            ]
          },
          "metadata": {},
          "execution_count": 13
        }
      ]
    },
    {
      "cell_type": "code",
      "source": [
        "#features_resnet = feature_extractor_resnet.predict(x_train)"
      ],
      "metadata": {
        "id": "z6gAkGeh3uQ5"
      },
      "execution_count": 14,
      "outputs": []
    },
    {
      "cell_type": "code",
      "source": [
        "#features_resnet.shape"
      ],
      "metadata": {
        "id": "xDhUQYLl3yd0"
      },
      "execution_count": 15,
      "outputs": []
    },
    {
      "cell_type": "code",
      "metadata": {
        "id": "3w7PoomPsYHN",
        "colab": {
          "base_uri": "https://localhost:8080/"
        },
        "outputId": "56585f81-3a11-4f74-fe72-4bc9e96f2ccf"
      },
      "source": [
        "Y_train = np.array(y_train)\n",
        "print(x_train.shape[1:])\n",
        "print(Y_train.shape)"
      ],
      "execution_count": 16,
      "outputs": [
        {
          "output_type": "stream",
          "name": "stdout",
          "text": [
            "(224, 224, 3)\n",
            "(2000,)\n"
          ]
        }
      ]
    },
    {
      "cell_type": "code",
      "metadata": {
        "id": "CvvFDEMpKwQt"
      },
      "source": [
        "from keras.models import Sequential\n",
        "from keras.layers import Dense, Dropout, Flatten"
      ],
      "execution_count": 17,
      "outputs": []
    },
    {
      "cell_type": "code",
      "metadata": {
        "id": "Nn81_QfVBvuj"
      },
      "source": [
        "# Create a model_vgg and add layers\n",
        "model_vgg = Sequential()\n",
        "\n",
        "# Add layers to our model_vgg\n",
        "model_vgg.add(Flatten(input_shape=features_x.shape[1:]))\n",
        "model_vgg.add(Dense(128, activation='relu'))\n",
        "model_vgg.add(Dropout(0.5))\n",
        "model_vgg.add(Dense(1, activation='sigmoid'))\n",
        "\n",
        "# Compile the model_vgg\n",
        "model_vgg.compile(loss='binary_crossentropy',optimizer='adam', metrics=['accuracy'])\n"
      ],
      "execution_count": 18,
      "outputs": []
    },
    {
      "cell_type": "code",
      "source": [
        "model_vgg.summary()"
      ],
      "metadata": {
        "colab": {
          "base_uri": "https://localhost:8080/"
        },
        "id": "hVPx-aid5gnB",
        "outputId": "c95ac5df-8def-4311-a889-d7a7acb2031a"
      },
      "execution_count": 19,
      "outputs": [
        {
          "output_type": "stream",
          "name": "stdout",
          "text": [
            "Model: \"sequential\"\n",
            "_________________________________________________________________\n",
            " Layer (type)                Output Shape              Param #   \n",
            "=================================================================\n",
            " flatten (Flatten)           (None, 25088)             0         \n",
            "                                                                 \n",
            " dense (Dense)               (None, 128)               3211392   \n",
            "                                                                 \n",
            " dropout (Dropout)           (None, 128)               0         \n",
            "                                                                 \n",
            " dense_1 (Dense)             (None, 1)                 129       \n",
            "                                                                 \n",
            "=================================================================\n",
            "Total params: 3211521 (12.25 MB)\n",
            "Trainable params: 3211521 (12.25 MB)\n",
            "Non-trainable params: 0 (0.00 Byte)\n",
            "_________________________________________________________________\n"
          ]
        }
      ]
    },
    {
      "cell_type": "code",
      "source": [
        "# Create a model_vgg and add layers\n",
        "'''model_resnet = Sequential()\n",
        "\n",
        "# Add layers to our model_vgg\n",
        "model_resnet.add(Flatten(input_shape=features_resnet.shape[1:]))\n",
        "model_resnet.add(Dense(128, activation='relu'))\n",
        "model_resnet.add(Dropout(0.5))\n",
        "model_resnet.add(Dense(1, activation='sigmoid'))\n",
        "\n",
        "# Compile the model_vgg\n",
        "model_resnet.compile(loss='binary_crossentropy',optimizer='adam', metrics=['accuracy'])'''\n"
      ],
      "metadata": {
        "id": "YYQK1YgD4XmP",
        "colab": {
          "base_uri": "https://localhost:8080/",
          "height": 105
        },
        "outputId": "5f66f52f-09cd-4642-f406-c18819b85169"
      },
      "execution_count": 21,
      "outputs": [
        {
          "output_type": "execute_result",
          "data": {
            "text/plain": [
              "\"model_resnet = Sequential()\\n\\n# Add layers to our model_vgg\\nmodel_resnet.add(Flatten(input_shape=features_resnet.shape[1:]))\\nmodel_resnet.add(Dense(128, activation='relu'))\\nmodel_resnet.add(Dropout(0.5))\\nmodel_resnet.add(Dense(1, activation='sigmoid'))\\n\\n# Compile the model_vgg\\nmodel_resnet.compile(loss='binary_crossentropy',optimizer='adam', metrics=['accuracy'])\""
            ],
            "application/vnd.google.colaboratory.intrinsic+json": {
              "type": "string"
            }
          },
          "metadata": {},
          "execution_count": 21
        }
      ]
    },
    {
      "cell_type": "code",
      "metadata": {
        "id": "-Rxngy6-Bynu",
        "colab": {
          "base_uri": "https://localhost:8080/"
        },
        "outputId": "38abbdfa-deb4-4a28-a88e-378ac6f7f415"
      },
      "source": [
        "# Train the model_vgg\n",
        "model_vgg.fit(features_x,Y_train,epochs=200, verbose=2)\n",
        "\n",
        "# Save the trained model_vgg to a file so we can use it to make predictions later\n",
        "model_vgg.save(\"bird_feature_classifier_model_vgg.h5\")"
      ],
      "execution_count": 22,
      "outputs": [
        {
          "output_type": "stream",
          "name": "stdout",
          "text": [
            "Epoch 1/200\n",
            "63/63 - 5s - loss: 1.8159 - accuracy: 0.6975 - 5s/epoch - 86ms/step\n",
            "Epoch 2/200\n",
            "63/63 - 0s - loss: 0.3856 - accuracy: 0.8260 - 317ms/epoch - 5ms/step\n",
            "Epoch 3/200\n",
            "63/63 - 0s - loss: 0.3024 - accuracy: 0.8750 - 334ms/epoch - 5ms/step\n",
            "Epoch 4/200\n",
            "63/63 - 0s - loss: 0.2464 - accuracy: 0.8825 - 324ms/epoch - 5ms/step\n",
            "Epoch 5/200\n",
            "63/63 - 0s - loss: 0.2065 - accuracy: 0.9060 - 321ms/epoch - 5ms/step\n",
            "Epoch 6/200\n",
            "63/63 - 0s - loss: 0.1686 - accuracy: 0.9165 - 311ms/epoch - 5ms/step\n",
            "Epoch 7/200\n",
            "63/63 - 0s - loss: 0.1503 - accuracy: 0.9320 - 322ms/epoch - 5ms/step\n",
            "Epoch 8/200\n",
            "63/63 - 0s - loss: 0.1294 - accuracy: 0.9480 - 338ms/epoch - 5ms/step\n",
            "Epoch 9/200\n",
            "63/63 - 0s - loss: 0.1211 - accuracy: 0.9490 - 274ms/epoch - 4ms/step\n",
            "Epoch 10/200\n",
            "63/63 - 0s - loss: 0.1257 - accuracy: 0.9360 - 256ms/epoch - 4ms/step\n",
            "Epoch 11/200\n",
            "63/63 - 0s - loss: 0.1120 - accuracy: 0.9475 - 257ms/epoch - 4ms/step\n",
            "Epoch 12/200\n",
            "63/63 - 0s - loss: 0.1059 - accuracy: 0.9475 - 260ms/epoch - 4ms/step\n",
            "Epoch 13/200\n",
            "63/63 - 0s - loss: 0.0893 - accuracy: 0.9610 - 248ms/epoch - 4ms/step\n",
            "Epoch 14/200\n",
            "63/63 - 0s - loss: 0.0920 - accuracy: 0.9580 - 252ms/epoch - 4ms/step\n",
            "Epoch 15/200\n",
            "63/63 - 0s - loss: 0.0794 - accuracy: 0.9590 - 256ms/epoch - 4ms/step\n",
            "Epoch 16/200\n",
            "63/63 - 0s - loss: 0.0764 - accuracy: 0.9615 - 272ms/epoch - 4ms/step\n",
            "Epoch 17/200\n",
            "63/63 - 0s - loss: 0.0795 - accuracy: 0.9600 - 261ms/epoch - 4ms/step\n",
            "Epoch 18/200\n",
            "63/63 - 0s - loss: 0.0597 - accuracy: 0.9720 - 250ms/epoch - 4ms/step\n",
            "Epoch 19/200\n",
            "63/63 - 0s - loss: 0.0896 - accuracy: 0.9645 - 261ms/epoch - 4ms/step\n",
            "Epoch 20/200\n",
            "63/63 - 0s - loss: 0.0738 - accuracy: 0.9605 - 287ms/epoch - 5ms/step\n",
            "Epoch 21/200\n",
            "63/63 - 0s - loss: 0.0695 - accuracy: 0.9650 - 251ms/epoch - 4ms/step\n",
            "Epoch 22/200\n",
            "63/63 - 0s - loss: 0.0621 - accuracy: 0.9695 - 254ms/epoch - 4ms/step\n",
            "Epoch 23/200\n",
            "63/63 - 0s - loss: 0.0688 - accuracy: 0.9605 - 269ms/epoch - 4ms/step\n",
            "Epoch 24/200\n",
            "63/63 - 0s - loss: 0.0661 - accuracy: 0.9635 - 246ms/epoch - 4ms/step\n",
            "Epoch 25/200\n",
            "63/63 - 0s - loss: 0.0758 - accuracy: 0.9635 - 240ms/epoch - 4ms/step\n",
            "Epoch 26/200\n",
            "63/63 - 0s - loss: 0.0636 - accuracy: 0.9710 - 244ms/epoch - 4ms/step\n",
            "Epoch 27/200\n",
            "63/63 - 0s - loss: 0.0925 - accuracy: 0.9545 - 259ms/epoch - 4ms/step\n",
            "Epoch 28/200\n",
            "63/63 - 0s - loss: 0.0802 - accuracy: 0.9670 - 270ms/epoch - 4ms/step\n",
            "Epoch 29/200\n",
            "63/63 - 0s - loss: 0.0662 - accuracy: 0.9710 - 238ms/epoch - 4ms/step\n",
            "Epoch 30/200\n",
            "63/63 - 0s - loss: 0.0570 - accuracy: 0.9700 - 247ms/epoch - 4ms/step\n",
            "Epoch 31/200\n",
            "63/63 - 0s - loss: 0.0549 - accuracy: 0.9740 - 260ms/epoch - 4ms/step\n",
            "Epoch 32/200\n",
            "63/63 - 0s - loss: 0.0517 - accuracy: 0.9695 - 251ms/epoch - 4ms/step\n",
            "Epoch 33/200\n",
            "63/63 - 0s - loss: 0.0508 - accuracy: 0.9775 - 254ms/epoch - 4ms/step\n",
            "Epoch 34/200\n",
            "63/63 - 0s - loss: 0.0515 - accuracy: 0.9700 - 265ms/epoch - 4ms/step\n",
            "Epoch 35/200\n",
            "63/63 - 0s - loss: 0.0442 - accuracy: 0.9770 - 258ms/epoch - 4ms/step\n",
            "Epoch 36/200\n",
            "63/63 - 0s - loss: 0.0536 - accuracy: 0.9765 - 257ms/epoch - 4ms/step\n",
            "Epoch 37/200\n",
            "63/63 - 0s - loss: 0.0530 - accuracy: 0.9745 - 253ms/epoch - 4ms/step\n",
            "Epoch 38/200\n",
            "63/63 - 0s - loss: 0.0585 - accuracy: 0.9705 - 272ms/epoch - 4ms/step\n",
            "Epoch 39/200\n",
            "63/63 - 0s - loss: 0.0510 - accuracy: 0.9700 - 264ms/epoch - 4ms/step\n",
            "Epoch 40/200\n",
            "63/63 - 0s - loss: 0.0576 - accuracy: 0.9735 - 251ms/epoch - 4ms/step\n",
            "Epoch 41/200\n",
            "63/63 - 0s - loss: 0.0624 - accuracy: 0.9695 - 257ms/epoch - 4ms/step\n",
            "Epoch 42/200\n",
            "63/63 - 0s - loss: 0.0586 - accuracy: 0.9705 - 258ms/epoch - 4ms/step\n",
            "Epoch 43/200\n",
            "63/63 - 0s - loss: 0.0505 - accuracy: 0.9780 - 261ms/epoch - 4ms/step\n",
            "Epoch 44/200\n",
            "63/63 - 0s - loss: 0.0712 - accuracy: 0.9615 - 248ms/epoch - 4ms/step\n",
            "Epoch 45/200\n",
            "63/63 - 0s - loss: 0.0543 - accuracy: 0.9765 - 250ms/epoch - 4ms/step\n",
            "Epoch 46/200\n",
            "63/63 - 0s - loss: 0.0587 - accuracy: 0.9750 - 281ms/epoch - 4ms/step\n",
            "Epoch 47/200\n",
            "63/63 - 0s - loss: 0.0608 - accuracy: 0.9675 - 326ms/epoch - 5ms/step\n",
            "Epoch 48/200\n",
            "63/63 - 0s - loss: 0.0617 - accuracy: 0.9670 - 314ms/epoch - 5ms/step\n",
            "Epoch 49/200\n",
            "63/63 - 0s - loss: 0.0535 - accuracy: 0.9670 - 347ms/epoch - 6ms/step\n",
            "Epoch 50/200\n",
            "63/63 - 0s - loss: 0.0520 - accuracy: 0.9680 - 328ms/epoch - 5ms/step\n",
            "Epoch 51/200\n",
            "63/63 - 0s - loss: 0.0681 - accuracy: 0.9640 - 302ms/epoch - 5ms/step\n",
            "Epoch 52/200\n",
            "63/63 - 0s - loss: 0.0731 - accuracy: 0.9660 - 336ms/epoch - 5ms/step\n",
            "Epoch 53/200\n",
            "63/63 - 0s - loss: 0.0680 - accuracy: 0.9685 - 341ms/epoch - 5ms/step\n",
            "Epoch 54/200\n",
            "63/63 - 0s - loss: 0.0440 - accuracy: 0.9745 - 311ms/epoch - 5ms/step\n",
            "Epoch 55/200\n",
            "63/63 - 0s - loss: 0.0497 - accuracy: 0.9715 - 356ms/epoch - 6ms/step\n",
            "Epoch 56/200\n",
            "63/63 - 0s - loss: 0.0538 - accuracy: 0.9715 - 367ms/epoch - 6ms/step\n",
            "Epoch 57/200\n",
            "63/63 - 0s - loss: 0.0443 - accuracy: 0.9785 - 321ms/epoch - 5ms/step\n",
            "Epoch 58/200\n",
            "63/63 - 0s - loss: 0.0496 - accuracy: 0.9790 - 267ms/epoch - 4ms/step\n",
            "Epoch 59/200\n",
            "63/63 - 0s - loss: 0.0482 - accuracy: 0.9765 - 268ms/epoch - 4ms/step\n",
            "Epoch 60/200\n",
            "63/63 - 0s - loss: 0.0471 - accuracy: 0.9780 - 248ms/epoch - 4ms/step\n",
            "Epoch 61/200\n",
            "63/63 - 0s - loss: 0.0384 - accuracy: 0.9810 - 256ms/epoch - 4ms/step\n",
            "Epoch 62/200\n",
            "63/63 - 0s - loss: 0.0540 - accuracy: 0.9740 - 246ms/epoch - 4ms/step\n",
            "Epoch 63/200\n",
            "63/63 - 0s - loss: 0.0365 - accuracy: 0.9775 - 261ms/epoch - 4ms/step\n",
            "Epoch 64/200\n",
            "63/63 - 0s - loss: 0.0446 - accuracy: 0.9790 - 251ms/epoch - 4ms/step\n",
            "Epoch 65/200\n",
            "63/63 - 0s - loss: 0.0482 - accuracy: 0.9775 - 279ms/epoch - 4ms/step\n",
            "Epoch 66/200\n",
            "63/63 - 0s - loss: 0.0296 - accuracy: 0.9850 - 268ms/epoch - 4ms/step\n",
            "Epoch 67/200\n",
            "63/63 - 0s - loss: 0.0315 - accuracy: 0.9825 - 290ms/epoch - 5ms/step\n",
            "Epoch 68/200\n",
            "63/63 - 0s - loss: 0.0482 - accuracy: 0.9765 - 248ms/epoch - 4ms/step\n",
            "Epoch 69/200\n",
            "63/63 - 0s - loss: 0.0443 - accuracy: 0.9795 - 259ms/epoch - 4ms/step\n",
            "Epoch 70/200\n",
            "63/63 - 0s - loss: 0.0502 - accuracy: 0.9810 - 252ms/epoch - 4ms/step\n",
            "Epoch 71/200\n",
            "63/63 - 0s - loss: 0.0392 - accuracy: 0.9810 - 253ms/epoch - 4ms/step\n",
            "Epoch 72/200\n",
            "63/63 - 0s - loss: 0.0337 - accuracy: 0.9800 - 264ms/epoch - 4ms/step\n",
            "Epoch 73/200\n",
            "63/63 - 0s - loss: 0.0371 - accuracy: 0.9805 - 248ms/epoch - 4ms/step\n",
            "Epoch 74/200\n",
            "63/63 - 0s - loss: 0.0244 - accuracy: 0.9885 - 249ms/epoch - 4ms/step\n",
            "Epoch 75/200\n",
            "63/63 - 0s - loss: 0.0423 - accuracy: 0.9775 - 256ms/epoch - 4ms/step\n",
            "Epoch 76/200\n",
            "63/63 - 0s - loss: 0.0402 - accuracy: 0.9805 - 249ms/epoch - 4ms/step\n",
            "Epoch 77/200\n",
            "63/63 - 0s - loss: 0.0471 - accuracy: 0.9715 - 239ms/epoch - 4ms/step\n",
            "Epoch 78/200\n",
            "63/63 - 0s - loss: 0.0419 - accuracy: 0.9810 - 246ms/epoch - 4ms/step\n",
            "Epoch 79/200\n",
            "63/63 - 0s - loss: 0.0450 - accuracy: 0.9785 - 256ms/epoch - 4ms/step\n",
            "Epoch 80/200\n",
            "63/63 - 0s - loss: 0.0405 - accuracy: 0.9800 - 244ms/epoch - 4ms/step\n",
            "Epoch 81/200\n",
            "63/63 - 0s - loss: 0.0532 - accuracy: 0.9755 - 248ms/epoch - 4ms/step\n",
            "Epoch 82/200\n",
            "63/63 - 0s - loss: 0.0489 - accuracy: 0.9785 - 245ms/epoch - 4ms/step\n",
            "Epoch 83/200\n",
            "63/63 - 0s - loss: 0.0402 - accuracy: 0.9805 - 262ms/epoch - 4ms/step\n",
            "Epoch 84/200\n",
            "63/63 - 0s - loss: 0.0484 - accuracy: 0.9775 - 235ms/epoch - 4ms/step\n",
            "Epoch 85/200\n",
            "63/63 - 0s - loss: 0.0434 - accuracy: 0.9800 - 258ms/epoch - 4ms/step\n",
            "Epoch 86/200\n",
            "63/63 - 0s - loss: 0.0450 - accuracy: 0.9820 - 265ms/epoch - 4ms/step\n",
            "Epoch 87/200\n",
            "63/63 - 0s - loss: 0.0480 - accuracy: 0.9750 - 253ms/epoch - 4ms/step\n",
            "Epoch 88/200\n",
            "63/63 - 0s - loss: 0.0462 - accuracy: 0.9790 - 255ms/epoch - 4ms/step\n",
            "Epoch 89/200\n",
            "63/63 - 0s - loss: 0.0462 - accuracy: 0.9770 - 247ms/epoch - 4ms/step\n",
            "Epoch 90/200\n",
            "63/63 - 0s - loss: 0.0388 - accuracy: 0.9815 - 243ms/epoch - 4ms/step\n",
            "Epoch 91/200\n",
            "63/63 - 0s - loss: 0.0334 - accuracy: 0.9825 - 251ms/epoch - 4ms/step\n",
            "Epoch 92/200\n",
            "63/63 - 0s - loss: 0.0442 - accuracy: 0.9770 - 251ms/epoch - 4ms/step\n",
            "Epoch 93/200\n",
            "63/63 - 0s - loss: 0.0358 - accuracy: 0.9820 - 248ms/epoch - 4ms/step\n",
            "Epoch 94/200\n",
            "63/63 - 0s - loss: 0.0398 - accuracy: 0.9780 - 241ms/epoch - 4ms/step\n",
            "Epoch 95/200\n",
            "63/63 - 0s - loss: 0.0339 - accuracy: 0.9850 - 259ms/epoch - 4ms/step\n",
            "Epoch 96/200\n",
            "63/63 - 0s - loss: 0.0364 - accuracy: 0.9795 - 296ms/epoch - 5ms/step\n",
            "Epoch 97/200\n",
            "63/63 - 0s - loss: 0.0347 - accuracy: 0.9850 - 309ms/epoch - 5ms/step\n",
            "Epoch 98/200\n",
            "63/63 - 0s - loss: 0.0372 - accuracy: 0.9825 - 313ms/epoch - 5ms/step\n",
            "Epoch 99/200\n",
            "63/63 - 0s - loss: 0.0405 - accuracy: 0.9865 - 323ms/epoch - 5ms/step\n",
            "Epoch 100/200\n",
            "63/63 - 0s - loss: 0.0398 - accuracy: 0.9790 - 316ms/epoch - 5ms/step\n",
            "Epoch 101/200\n",
            "63/63 - 0s - loss: 0.0304 - accuracy: 0.9850 - 322ms/epoch - 5ms/step\n",
            "Epoch 102/200\n",
            "63/63 - 0s - loss: 0.0430 - accuracy: 0.9780 - 317ms/epoch - 5ms/step\n",
            "Epoch 103/200\n",
            "63/63 - 0s - loss: 0.0479 - accuracy: 0.9805 - 321ms/epoch - 5ms/step\n",
            "Epoch 104/200\n",
            "63/63 - 0s - loss: 0.0285 - accuracy: 0.9830 - 289ms/epoch - 5ms/step\n",
            "Epoch 105/200\n",
            "63/63 - 0s - loss: 0.0311 - accuracy: 0.9840 - 312ms/epoch - 5ms/step\n",
            "Epoch 106/200\n",
            "63/63 - 0s - loss: 0.0295 - accuracy: 0.9845 - 328ms/epoch - 5ms/step\n",
            "Epoch 107/200\n",
            "63/63 - 0s - loss: 0.0254 - accuracy: 0.9855 - 304ms/epoch - 5ms/step\n",
            "Epoch 108/200\n",
            "63/63 - 0s - loss: 0.0295 - accuracy: 0.9875 - 272ms/epoch - 4ms/step\n",
            "Epoch 109/200\n",
            "63/63 - 0s - loss: 0.0324 - accuracy: 0.9845 - 264ms/epoch - 4ms/step\n",
            "Epoch 110/200\n",
            "63/63 - 0s - loss: 0.0368 - accuracy: 0.9820 - 269ms/epoch - 4ms/step\n",
            "Epoch 111/200\n",
            "63/63 - 0s - loss: 0.0331 - accuracy: 0.9860 - 258ms/epoch - 4ms/step\n",
            "Epoch 112/200\n",
            "63/63 - 0s - loss: 0.0301 - accuracy: 0.9840 - 251ms/epoch - 4ms/step\n",
            "Epoch 113/200\n",
            "63/63 - 0s - loss: 0.0333 - accuracy: 0.9820 - 254ms/epoch - 4ms/step\n",
            "Epoch 114/200\n",
            "63/63 - 0s - loss: 0.0271 - accuracy: 0.9855 - 251ms/epoch - 4ms/step\n",
            "Epoch 115/200\n",
            "63/63 - 0s - loss: 0.0322 - accuracy: 0.9825 - 246ms/epoch - 4ms/step\n",
            "Epoch 116/200\n",
            "63/63 - 0s - loss: 0.0253 - accuracy: 0.9890 - 274ms/epoch - 4ms/step\n",
            "Epoch 117/200\n",
            "63/63 - 0s - loss: 0.0367 - accuracy: 0.9850 - 259ms/epoch - 4ms/step\n",
            "Epoch 118/200\n",
            "63/63 - 0s - loss: 0.0301 - accuracy: 0.9815 - 247ms/epoch - 4ms/step\n",
            "Epoch 119/200\n",
            "63/63 - 0s - loss: 0.0344 - accuracy: 0.9825 - 252ms/epoch - 4ms/step\n",
            "Epoch 120/200\n",
            "63/63 - 0s - loss: 0.0363 - accuracy: 0.9850 - 273ms/epoch - 4ms/step\n",
            "Epoch 121/200\n",
            "63/63 - 0s - loss: 0.0303 - accuracy: 0.9845 - 260ms/epoch - 4ms/step\n",
            "Epoch 122/200\n",
            "63/63 - 0s - loss: 0.0343 - accuracy: 0.9825 - 275ms/epoch - 4ms/step\n",
            "Epoch 123/200\n",
            "63/63 - 0s - loss: 0.0251 - accuracy: 0.9885 - 287ms/epoch - 5ms/step\n",
            "Epoch 124/200\n",
            "63/63 - 0s - loss: 0.0425 - accuracy: 0.9825 - 287ms/epoch - 5ms/step\n",
            "Epoch 125/200\n",
            "63/63 - 0s - loss: 0.0339 - accuracy: 0.9850 - 265ms/epoch - 4ms/step\n",
            "Epoch 126/200\n",
            "63/63 - 0s - loss: 0.0373 - accuracy: 0.9860 - 255ms/epoch - 4ms/step\n",
            "Epoch 127/200\n",
            "63/63 - 0s - loss: 0.0477 - accuracy: 0.9845 - 256ms/epoch - 4ms/step\n",
            "Epoch 128/200\n",
            "63/63 - 0s - loss: 0.0444 - accuracy: 0.9825 - 258ms/epoch - 4ms/step\n",
            "Epoch 129/200\n",
            "63/63 - 0s - loss: 0.0271 - accuracy: 0.9865 - 254ms/epoch - 4ms/step\n",
            "Epoch 130/200\n",
            "63/63 - 0s - loss: 0.0409 - accuracy: 0.9820 - 251ms/epoch - 4ms/step\n",
            "Epoch 131/200\n",
            "63/63 - 0s - loss: 0.0436 - accuracy: 0.9810 - 293ms/epoch - 5ms/step\n",
            "Epoch 132/200\n",
            "63/63 - 0s - loss: 0.0230 - accuracy: 0.9905 - 254ms/epoch - 4ms/step\n",
            "Epoch 133/200\n",
            "63/63 - 0s - loss: 0.0245 - accuracy: 0.9885 - 248ms/epoch - 4ms/step\n",
            "Epoch 134/200\n",
            "63/63 - 0s - loss: 0.0382 - accuracy: 0.9815 - 244ms/epoch - 4ms/step\n",
            "Epoch 135/200\n",
            "63/63 - 0s - loss: 0.0350 - accuracy: 0.9830 - 257ms/epoch - 4ms/step\n",
            "Epoch 136/200\n",
            "63/63 - 0s - loss: 0.0347 - accuracy: 0.9825 - 263ms/epoch - 4ms/step\n",
            "Epoch 137/200\n",
            "63/63 - 0s - loss: 0.0410 - accuracy: 0.9830 - 275ms/epoch - 4ms/step\n",
            "Epoch 138/200\n",
            "63/63 - 0s - loss: 0.0282 - accuracy: 0.9850 - 259ms/epoch - 4ms/step\n",
            "Epoch 139/200\n",
            "63/63 - 0s - loss: 0.0309 - accuracy: 0.9870 - 258ms/epoch - 4ms/step\n",
            "Epoch 140/200\n",
            "63/63 - 0s - loss: 0.0262 - accuracy: 0.9890 - 251ms/epoch - 4ms/step\n",
            "Epoch 141/200\n",
            "63/63 - 0s - loss: 0.0268 - accuracy: 0.9880 - 262ms/epoch - 4ms/step\n",
            "Epoch 142/200\n",
            "63/63 - 0s - loss: 0.0310 - accuracy: 0.9835 - 262ms/epoch - 4ms/step\n",
            "Epoch 143/200\n",
            "63/63 - 0s - loss: 0.0192 - accuracy: 0.9920 - 256ms/epoch - 4ms/step\n",
            "Epoch 144/200\n",
            "63/63 - 0s - loss: 0.0179 - accuracy: 0.9915 - 251ms/epoch - 4ms/step\n",
            "Epoch 145/200\n",
            "63/63 - 0s - loss: 0.0287 - accuracy: 0.9850 - 329ms/epoch - 5ms/step\n",
            "Epoch 146/200\n",
            "63/63 - 0s - loss: 0.0277 - accuracy: 0.9870 - 315ms/epoch - 5ms/step\n",
            "Epoch 147/200\n",
            "63/63 - 0s - loss: 0.0232 - accuracy: 0.9895 - 315ms/epoch - 5ms/step\n",
            "Epoch 148/200\n",
            "63/63 - 0s - loss: 0.0207 - accuracy: 0.9895 - 325ms/epoch - 5ms/step\n",
            "Epoch 149/200\n",
            "63/63 - 0s - loss: 0.0264 - accuracy: 0.9875 - 322ms/epoch - 5ms/step\n",
            "Epoch 150/200\n",
            "63/63 - 0s - loss: 0.0362 - accuracy: 0.9865 - 322ms/epoch - 5ms/step\n",
            "Epoch 151/200\n",
            "63/63 - 0s - loss: 0.0315 - accuracy: 0.9875 - 314ms/epoch - 5ms/step\n",
            "Epoch 152/200\n",
            "63/63 - 0s - loss: 0.0330 - accuracy: 0.9825 - 345ms/epoch - 5ms/step\n",
            "Epoch 153/200\n",
            "63/63 - 0s - loss: 0.0240 - accuracy: 0.9915 - 322ms/epoch - 5ms/step\n",
            "Epoch 154/200\n",
            "63/63 - 0s - loss: 0.0282 - accuracy: 0.9850 - 316ms/epoch - 5ms/step\n",
            "Epoch 155/200\n",
            "63/63 - 0s - loss: 0.0346 - accuracy: 0.9860 - 322ms/epoch - 5ms/step\n",
            "Epoch 156/200\n",
            "63/63 - 0s - loss: 0.0346 - accuracy: 0.9860 - 267ms/epoch - 4ms/step\n",
            "Epoch 157/200\n",
            "63/63 - 0s - loss: 0.0263 - accuracy: 0.9885 - 248ms/epoch - 4ms/step\n",
            "Epoch 158/200\n",
            "63/63 - 0s - loss: 0.0276 - accuracy: 0.9885 - 248ms/epoch - 4ms/step\n",
            "Epoch 159/200\n",
            "63/63 - 0s - loss: 0.0502 - accuracy: 0.9835 - 272ms/epoch - 4ms/step\n",
            "Epoch 160/200\n",
            "63/63 - 0s - loss: 0.0556 - accuracy: 0.9820 - 266ms/epoch - 4ms/step\n",
            "Epoch 161/200\n",
            "63/63 - 0s - loss: 0.0434 - accuracy: 0.9815 - 261ms/epoch - 4ms/step\n",
            "Epoch 162/200\n",
            "63/63 - 0s - loss: 0.0324 - accuracy: 0.9895 - 264ms/epoch - 4ms/step\n",
            "Epoch 163/200\n",
            "63/63 - 0s - loss: 0.0378 - accuracy: 0.9865 - 254ms/epoch - 4ms/step\n",
            "Epoch 164/200\n",
            "63/63 - 0s - loss: 0.0435 - accuracy: 0.9845 - 252ms/epoch - 4ms/step\n",
            "Epoch 165/200\n",
            "63/63 - 0s - loss: 0.0223 - accuracy: 0.9880 - 250ms/epoch - 4ms/step\n",
            "Epoch 166/200\n",
            "63/63 - 0s - loss: 0.0327 - accuracy: 0.9865 - 251ms/epoch - 4ms/step\n",
            "Epoch 167/200\n",
            "63/63 - 0s - loss: 0.0293 - accuracy: 0.9870 - 268ms/epoch - 4ms/step\n",
            "Epoch 168/200\n",
            "63/63 - 0s - loss: 0.0296 - accuracy: 0.9920 - 254ms/epoch - 4ms/step\n",
            "Epoch 169/200\n",
            "63/63 - 0s - loss: 0.0209 - accuracy: 0.9900 - 250ms/epoch - 4ms/step\n",
            "Epoch 170/200\n",
            "63/63 - 0s - loss: 0.0298 - accuracy: 0.9900 - 252ms/epoch - 4ms/step\n",
            "Epoch 171/200\n",
            "63/63 - 0s - loss: 0.0307 - accuracy: 0.9865 - 260ms/epoch - 4ms/step\n",
            "Epoch 172/200\n",
            "63/63 - 0s - loss: 0.0255 - accuracy: 0.9885 - 240ms/epoch - 4ms/step\n",
            "Epoch 173/200\n",
            "63/63 - 0s - loss: 0.0252 - accuracy: 0.9900 - 272ms/epoch - 4ms/step\n",
            "Epoch 174/200\n",
            "63/63 - 0s - loss: 0.0266 - accuracy: 0.9885 - 261ms/epoch - 4ms/step\n",
            "Epoch 175/200\n",
            "63/63 - 0s - loss: 0.0299 - accuracy: 0.9880 - 263ms/epoch - 4ms/step\n",
            "Epoch 176/200\n",
            "63/63 - 0s - loss: 0.0214 - accuracy: 0.9880 - 283ms/epoch - 4ms/step\n",
            "Epoch 177/200\n",
            "63/63 - 0s - loss: 0.0291 - accuracy: 0.9855 - 294ms/epoch - 5ms/step\n",
            "Epoch 178/200\n",
            "63/63 - 0s - loss: 0.0347 - accuracy: 0.9885 - 280ms/epoch - 4ms/step\n",
            "Epoch 179/200\n",
            "63/63 - 0s - loss: 0.0382 - accuracy: 0.9855 - 277ms/epoch - 4ms/step\n",
            "Epoch 180/200\n",
            "63/63 - 0s - loss: 0.0252 - accuracy: 0.9895 - 256ms/epoch - 4ms/step\n",
            "Epoch 181/200\n",
            "63/63 - 0s - loss: 0.0363 - accuracy: 0.9825 - 254ms/epoch - 4ms/step\n",
            "Epoch 182/200\n",
            "63/63 - 0s - loss: 0.0249 - accuracy: 0.9865 - 280ms/epoch - 4ms/step\n",
            "Epoch 183/200\n",
            "63/63 - 0s - loss: 0.0269 - accuracy: 0.9910 - 253ms/epoch - 4ms/step\n",
            "Epoch 184/200\n",
            "63/63 - 0s - loss: 0.0300 - accuracy: 0.9875 - 264ms/epoch - 4ms/step\n",
            "Epoch 185/200\n",
            "63/63 - 0s - loss: 0.0182 - accuracy: 0.9910 - 378ms/epoch - 6ms/step\n",
            "Epoch 186/200\n",
            "63/63 - 0s - loss: 0.0287 - accuracy: 0.9920 - 267ms/epoch - 4ms/step\n",
            "Epoch 187/200\n",
            "63/63 - 0s - loss: 0.0252 - accuracy: 0.9890 - 268ms/epoch - 4ms/step\n",
            "Epoch 188/200\n",
            "63/63 - 0s - loss: 0.0254 - accuracy: 0.9890 - 260ms/epoch - 4ms/step\n",
            "Epoch 189/200\n",
            "63/63 - 0s - loss: 0.0230 - accuracy: 0.9915 - 278ms/epoch - 4ms/step\n",
            "Epoch 190/200\n",
            "63/63 - 0s - loss: 0.0190 - accuracy: 0.9905 - 264ms/epoch - 4ms/step\n",
            "Epoch 191/200\n",
            "63/63 - 0s - loss: 0.0280 - accuracy: 0.9915 - 260ms/epoch - 4ms/step\n",
            "Epoch 192/200\n",
            "63/63 - 0s - loss: 0.0183 - accuracy: 0.9895 - 286ms/epoch - 5ms/step\n",
            "Epoch 193/200\n",
            "63/63 - 0s - loss: 0.0277 - accuracy: 0.9855 - 368ms/epoch - 6ms/step\n",
            "Epoch 194/200\n",
            "63/63 - 0s - loss: 0.0168 - accuracy: 0.9915 - 318ms/epoch - 5ms/step\n",
            "Epoch 195/200\n",
            "63/63 - 0s - loss: 0.0263 - accuracy: 0.9885 - 328ms/epoch - 5ms/step\n",
            "Epoch 196/200\n",
            "63/63 - 0s - loss: 0.0209 - accuracy: 0.9870 - 326ms/epoch - 5ms/step\n",
            "Epoch 197/200\n",
            "63/63 - 0s - loss: 0.0233 - accuracy: 0.9900 - 335ms/epoch - 5ms/step\n",
            "Epoch 198/200\n",
            "63/63 - 0s - loss: 0.0258 - accuracy: 0.9900 - 330ms/epoch - 5ms/step\n",
            "Epoch 199/200\n",
            "63/63 - 0s - loss: 0.0222 - accuracy: 0.9900 - 348ms/epoch - 6ms/step\n",
            "Epoch 200/200\n",
            "63/63 - 0s - loss: 0.0272 - accuracy: 0.9865 - 322ms/epoch - 5ms/step\n"
          ]
        },
        {
          "output_type": "stream",
          "name": "stderr",
          "text": [
            "/usr/local/lib/python3.10/dist-packages/keras/src/engine/training.py:3079: UserWarning: You are saving your model as an HDF5 file via `model.save()`. This file format is considered legacy. We recommend using instead the native Keras format, e.g. `model.save('my_model.keras')`.\n",
            "  saving_api.save_model(\n"
          ]
        }
      ]
    },
    {
      "cell_type": "code",
      "source": [
        "# Train the model_vgg\n",
        "'''model_resnet.fit(features_resnet,Y_train,epochs=10,shuffle=True, verbose=2)\n",
        "\n",
        "# Save the trained model_vgg to a file so we can use it to make predictions later\n",
        "model_resnet.save(\"bird_feature_classifier_model_resnet.h5\")'''"
      ],
      "metadata": {
        "id": "6l4q7m2n4wEx"
      },
      "execution_count": null,
      "outputs": []
    },
    {
      "cell_type": "code",
      "metadata": {
        "id": "UZLgCYOnB1k-"
      },
      "source": [
        "from keras.models import load_model\n",
        "from sklearn.metrics import confusion_matrix, classification_report"
      ],
      "execution_count": 23,
      "outputs": []
    },
    {
      "cell_type": "code",
      "metadata": {
        "id": "yUqfBf9ECFBU"
      },
      "source": [
        "# Empty lists to hold the images and labels for each each image\n",
        "x_test = []\n",
        "y_test = []\n",
        "\n",
        "# Load the test data set by looping over every image file\n",
        "for image_file in Path(\"Transfer-Learning/test_dataset\").glob(\"**/*.png\"):\n",
        "\n",
        "    # Load the current image file\n",
        "    image_data = load_img(image_file, target_size=(224,224,3))\n",
        "\n",
        "    # Convert the loaded image file to a numpy array\n",
        "    image_array = img_to_array(image_data)\n",
        "\n",
        "    # Add the current image to our list of test images\n",
        "    x_test.append(image_array)\n",
        "\n",
        "    # Add an expected label for this image. If it was a not_bird image, label it 0. If it was a bird, label it 1.\n",
        "    if \"not_bird\" in image_file.stem:\n",
        "        y_test.append(0)\n",
        "    else:\n",
        "        y_test.append(1)\n",
        "\n",
        "# Convert the list of test images to a numpy array\n",
        "x_test = np.array(x_test)\n",
        "\n",
        "# Normalize test data set to 0-to-1 range\n",
        "x_test = imagenet_utils.preprocess_input(x_test)"
      ],
      "execution_count": 24,
      "outputs": []
    },
    {
      "cell_type": "code",
      "source": [
        "x_test.shape"
      ],
      "metadata": {
        "id": "ygFBUl_cSOmT",
        "outputId": "9cd771b2-9dbd-4fcf-f369-3e0eefc5e5bc",
        "colab": {
          "base_uri": "https://localhost:8080/"
        }
      },
      "execution_count": 25,
      "outputs": [
        {
          "output_type": "execute_result",
          "data": {
            "text/plain": [
              "(200, 224, 224, 3)"
            ]
          },
          "metadata": {},
          "execution_count": 25
        }
      ]
    },
    {
      "cell_type": "code",
      "metadata": {
        "id": "mPYbXZBMCSGn",
        "colab": {
          "base_uri": "https://localhost:8080/"
        },
        "outputId": "80e72fdb-17ed-4423-e26b-3ed0540276f1"
      },
      "source": [
        "# Load our trained classifier model_vgg\n",
        "model_vgg = load_model(\"bird_feature_classifier_model_vgg.h5\")\n",
        "\n",
        "# Extract features for each image (all in one pass)\n",
        "features_x = feature_extractor.predict(x_test)\n",
        "\n",
        "# Given the extracted features, make a final prediction using our own model_vgg\n",
        "predictions = model_vgg.predict(features_x)\n",
        "\n",
        "# If the model_vgg is more than 50% sure the object is a bird, call it a bird.\n",
        "# Otherwise, call it \"not a bird\".\n",
        "predictions = predictions > 0.5\n",
        "\n",
        "# Calculate how many mis-classifications the model_vgg makes\n",
        "tn, fp, fn, tp = confusion_matrix(y_test, predictions).ravel()\n",
        "print(f\"True Positives: {tp}\")\n",
        "print(f\"True Negatives: {tn}\")\n",
        "print(f\"False Positives: {fp}\")\n",
        "print(f\"False Negatives: {fn}\")\n",
        "\n",
        "# Calculate Precision and Recall for each class\n",
        "report = classification_report(y_test, predictions)\n",
        "print(report)"
      ],
      "execution_count": 26,
      "outputs": [
        {
          "output_type": "stream",
          "name": "stdout",
          "text": [
            "7/7 [==============================] - 2s 318ms/step\n",
            "7/7 [==============================] - 0s 5ms/step\n",
            "True Positives: 89\n",
            "True Negatives: 87\n",
            "False Positives: 13\n",
            "False Negatives: 11\n",
            "              precision    recall  f1-score   support\n",
            "\n",
            "           0       0.89      0.87      0.88       100\n",
            "           1       0.87      0.89      0.88       100\n",
            "\n",
            "    accuracy                           0.88       200\n",
            "   macro avg       0.88      0.88      0.88       200\n",
            "weighted avg       0.88      0.88      0.88       200\n",
            "\n"
          ]
        }
      ]
    },
    {
      "cell_type": "code",
      "source": [
        "# Load our trained classifier model_vgg\n",
        "'''model_resnet = load_model(\"bird_feature_classifier_model_resnet.h5\")\n",
        "\n",
        "# Extract features for each image (all in one pass)\n",
        "features_resnet = feature_extractor_resnet.predict(x_test)\n",
        "\n",
        "# Given the extracted features, make a final prediction using our own model_vgg\n",
        "predictions = model_resnet.predict(features_resnet)\n",
        "\n",
        "# If the model_vgg is more than 50% sure the object is a bird, call it a bird.\n",
        "# Otherwise, call it \"not a bird\".\n",
        "predictions = predictions > 0.5\n",
        "\n",
        "# Calculate how many mis-classifications the model_vgg makes\n",
        "tn, fp, fn, tp = confusion_matrix(y_test, predictions).ravel()\n",
        "print(f\"True Positives: {tp}\")\n",
        "print(f\"True Negatives: {tn}\")\n",
        "print(f\"False Positives: {fp}\")\n",
        "print(f\"False Negatives: {fn}\")\n",
        "\n",
        "# Calculate Precision and Recall for each class\n",
        "report = classification_report(y_test, predictions)\n",
        "print(report)'''"
      ],
      "metadata": {
        "id": "_FYLaUrc464r"
      },
      "execution_count": null,
      "outputs": []
    },
    {
      "cell_type": "code",
      "metadata": {
        "id": "N97Mwb4Nt7Ow"
      },
      "source": [],
      "execution_count": null,
      "outputs": []
    }
  ]
}